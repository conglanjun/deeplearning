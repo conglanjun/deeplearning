{
 "cells": [
  {
   "cell_type": "code",
   "execution_count": 1,
   "id": "quantitative-friendship",
   "metadata": {},
   "outputs": [],
   "source": [
    "import numpy as np\n",
    "import numpy.linalg as la"
   ]
  },
  {
   "cell_type": "code",
   "execution_count": 2,
   "id": "accompanied-apache",
   "metadata": {},
   "outputs": [
    {
     "name": "stdout",
     "output_type": "stream",
     "text": [
      "[1.e+07 1.e+08 2.e+05 2.e+07]\n",
      "上溢： [nan nan nan nan]\n",
      "[-90000000.         0. -99800000. -80000000.]\n",
      "上溢处理： [0. 1. 0. 0.]\n"
     ]
    },
    {
     "name": "stderr",
     "output_type": "stream",
     "text": [
      "<ipython-input-2-0667fec1ac9e>:3: RuntimeWarning: overflow encountered in exp\n",
      "  y = np.exp(x) / sum(np.exp(x))\n",
      "<ipython-input-2-0667fec1ac9e>:3: RuntimeWarning: invalid value encountered in true_divide\n",
      "  y = np.exp(x) / sum(np.exp(x))\n"
     ]
    }
   ],
   "source": [
    "x = np.array([1e7, 1e8, 2e5, 2e7])\n",
    "print(x)\n",
    "y = np.exp(x) / sum(np.exp(x))\n",
    "print(\"上溢：\", y)\n",
    "x = x - np.max(x)\n",
    "print(x)\n",
    "y = np.exp(x)/sum(np.exp(x))\n",
    "print(\"上溢处理：\", y)"
   ]
  },
  {
   "cell_type": "code",
   "execution_count": 3,
   "id": "rotary-beatles",
   "metadata": {},
   "outputs": [
    {
     "name": "stdout",
     "output_type": "stream",
     "text": [
      "下溢： [nan nan nan nan]\n",
      "[-9.0e+09  0.0e+00 -1.9e+10 -9.0e+09]\n",
      "下溢处理： [0. 1. 0. 0.]\n",
      "log softmax(x): [-inf   0. -inf -inf]\n",
      "x: [-9.0e+09  0.0e+00 -1.9e+10 -9.0e+09]\n",
      "sum: 1.0\n",
      "logsoftmax(x): [-9.0e+09  0.0e+00 -1.9e+10 -9.0e+09]\n"
     ]
    },
    {
     "name": "stderr",
     "output_type": "stream",
     "text": [
      "<ipython-input-3-ce2cc2aa1b6a>:2: RuntimeWarning: invalid value encountered in true_divide\n",
      "  y = np.exp(x)/sum(np.exp(x))\n",
      "<ipython-input-3-ce2cc2aa1b6a>:8: RuntimeWarning: divide by zero encountered in log\n",
      "  print(\"log softmax(x):\", np.log(y))\n"
     ]
    }
   ],
   "source": [
    "x = np.array([-1e10, -1e9, -2e10, -1e10])\n",
    "y = np.exp(x)/sum(np.exp(x))\n",
    "print(\"下溢：\", y)\n",
    "x = x - np.max(x)\n",
    "print(x)\n",
    "y = np.exp(x)/sum(np.exp(x))\n",
    "print(\"下溢处理：\", y)\n",
    "print(\"log softmax(x):\", np.log(y))\n",
    "# 对 log softmax 下溢的处理：\n",
    "def logsoftmax(x):\n",
    "    print('x:', x)\n",
    "    print('sum:', sum(np.exp(x)))\n",
    "    y = x - np.log(sum(np.exp(x)))\n",
    "    return y\n",
    "print(\"logsoftmax(x):\", logsoftmax(x))"
   ]
  },
  {
   "cell_type": "code",
   "execution_count": 4,
   "id": "blind-aside",
   "metadata": {},
   "outputs": [],
   "source": [
    "x0 = np.array([1.0, 1.0, 1.0])\n",
    "A = np.array([[1.0, -2.0, 1.0], [0.0, 2.0, -8.0], [-4.0, 5.0, 9.0]])\n",
    "b = np.array([0.0, 8.0, -9.0])\n",
    "epsilon = 0.001\n",
    "delta = 1e-3"
   ]
  },
  {
   "cell_type": "code",
   "execution_count": 9,
   "id": "accessible-season",
   "metadata": {},
   "outputs": [
    {
     "data": {
      "text/plain": [
       "array([27.82277014, 15.34731055,  2.83848939])"
      ]
     },
     "execution_count": 9,
     "metadata": {},
     "output_type": "execute_result"
    }
   ],
   "source": [
    "\"\"\"\n",
    "gradient descent\n",
    "\"\"\"\n",
    "def matmul_chain(*args):\n",
    "    if len(args) == 0: return np.nan\n",
    "    result = args[0]\n",
    "    for x in args[1:]:\n",
    "        result = result @ x\n",
    "    return result\n",
    "\n",
    "def gradient_decent(x, A, b, epsilon, delta):\n",
    "    while la.norm(matmul_chain(A.T, A, x) - matmul_chain(A.T, b)) > delta:\n",
    "        x -= epsilon * (matmul_chain(A.T, A, x) - matmul_chain(A.T, b))\n",
    "    return x\n",
    "\n",
    "gradient_decent(x0, A, b, epsilon, delta)"
   ]
  },
  {
   "cell_type": "code",
   "execution_count": 12,
   "id": "veterinary-major",
   "metadata": {},
   "outputs": [
    {
     "data": {
      "text/plain": [
       "array([29., 16.,  3.])"
      ]
     },
     "execution_count": 12,
     "metadata": {},
     "output_type": "execute_result"
    }
   ],
   "source": [
    "\"\"\"\n",
    "newton\n",
    "\"\"\"\n",
    "def matmul_chain(*args):\n",
    "    if len(args) == 0: return np.nan\n",
    "    result = args[0]\n",
    "    for x in args[1:]:\n",
    "        result = result @ x\n",
    "    return result\n",
    "\n",
    "def newton(x, A, b):\n",
    "    x = matmul_chain(np.linalg.inv(matmul_chain(A.T, A)), A.T, b)\n",
    "    return x\n",
    "newton(x0, A, b)"
   ]
  },
  {
   "cell_type": "code",
   "execution_count": 14,
   "id": "median-arrow",
   "metadata": {},
   "outputs": [
    {
     "data": {
      "text/plain": [
       "array([ 0.23637902,  0.05135858, -0.94463626])"
      ]
     },
     "execution_count": 14,
     "metadata": {},
     "output_type": "execute_result"
    }
   ],
   "source": [
    "\"\"\"\n",
    "constrain optimazation\n",
    "\"\"\"\n",
    "def matmul_chain(*args):\n",
    "    if len(args) == 0: return np.nan\n",
    "    result = args[0]\n",
    "    for x in args[1:]:\n",
    "        result = result @ x\n",
    "    return result\n",
    "\n",
    "def contrain_opti(x, A, b, delta):\n",
    "    k = len(x)\n",
    "    lamb = 0\n",
    "    while np.abs(np.dot(x.T, x) - 1) > 5e-2:\n",
    "        x = matmul_chain(np.linalg.inv(matmul_chain(A.T, A) + 2 * lamb * np.identity(k)), A.T, b)\n",
    "        lamb += np.dot(x.T, x) - 1\n",
    "    return x\n",
    "\n",
    "contrain_opti(x0, A, b, delta)"
   ]
  },
  {
   "cell_type": "code",
   "execution_count": 16,
   "id": "soviet-bunny",
   "metadata": {},
   "outputs": [
    {
     "name": "stdout",
     "output_type": "stream",
     "text": [
      "numpy: 1.19.2\n"
     ]
    }
   ],
   "source": [
    "import numpy\n",
    "print(\"numpy:\", numpy.__version__)"
   ]
  },
  {
   "cell_type": "code",
   "execution_count": null,
   "id": "racial-reply",
   "metadata": {},
   "outputs": [],
   "source": []
  }
 ],
 "metadata": {
  "kernelspec": {
   "display_name": "Python 3",
   "language": "python",
   "name": "python3"
  },
  "language_info": {
   "codemirror_mode": {
    "name": "ipython",
    "version": 3
   },
   "file_extension": ".py",
   "mimetype": "text/x-python",
   "name": "python",
   "nbconvert_exporter": "python",
   "pygments_lexer": "ipython3",
   "version": "3.8.6"
  }
 },
 "nbformat": 4,
 "nbformat_minor": 5
}
