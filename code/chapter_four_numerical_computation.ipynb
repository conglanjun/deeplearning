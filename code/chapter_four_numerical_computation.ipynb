{
 "cells": [
  {
   "cell_type": "code",
   "execution_count": 4,
   "id": "weighted-spank",
   "metadata": {},
   "outputs": [],
   "source": [
    "import numpy as np\n",
    "import numpy.linalg as la"
   ]
  },
  {
   "cell_type": "code",
   "execution_count": 10,
   "id": "joint-hunter",
   "metadata": {},
   "outputs": [
    {
     "name": "stdout",
     "output_type": "stream",
     "text": [
      "[1.e+07 1.e+08 2.e+05 2.e+07]\n",
      "上溢： [nan nan nan nan]\n",
      "[-90000000.         0. -99800000. -80000000.]\n",
      "上溢处理： [0. 1. 0. 0.]\n"
     ]
    },
    {
     "name": "stderr",
     "output_type": "stream",
     "text": [
      "<ipython-input-10-0667fec1ac9e>:3: RuntimeWarning: overflow encountered in exp\n",
      "  y = np.exp(x) / sum(np.exp(x))\n",
      "<ipython-input-10-0667fec1ac9e>:3: RuntimeWarning: invalid value encountered in true_divide\n",
      "  y = np.exp(x) / sum(np.exp(x))\n"
     ]
    }
   ],
   "source": [
    "x = np.array([1e7, 1e8, 2e5, 2e7])\n",
    "print(x)\n",
    "y = np.exp(x) / sum(np.exp(x))\n",
    "print(\"上溢：\", y)\n",
    "x = x - np.max(x)\n",
    "print(x)\n",
    "y = np.exp(x)/sum(np.exp(x))\n",
    "print(\"上溢处理：\", y)"
   ]
  },
  {
   "cell_type": "code",
   "execution_count": 22,
   "id": "electrical-zambia",
   "metadata": {},
   "outputs": [
    {
     "name": "stdout",
     "output_type": "stream",
     "text": [
      "下溢： [nan nan nan nan]\n",
      "[-9.0e+09  0.0e+00 -1.9e+10 -9.0e+09]\n",
      "下溢处理： [0. 1. 0. 0.]\n",
      "log softmax(x): [-inf   0. -inf -inf]\n",
      "x: [-9.0e+09  0.0e+00 -1.9e+10 -9.0e+09]\n",
      "sum: 1.0\n",
      "logsoftmax(x): [-9.0e+09  0.0e+00 -1.9e+10 -9.0e+09]\n"
     ]
    },
    {
     "name": "stderr",
     "output_type": "stream",
     "text": [
      "<ipython-input-22-ce2cc2aa1b6a>:2: RuntimeWarning: invalid value encountered in true_divide\n",
      "  y = np.exp(x)/sum(np.exp(x))\n",
      "<ipython-input-22-ce2cc2aa1b6a>:8: RuntimeWarning: divide by zero encountered in log\n",
      "  print(\"log softmax(x):\", np.log(y))\n"
     ]
    }
   ],
   "source": [
    "x = np.array([-1e10, -1e9, -2e10, -1e10])\n",
    "y = np.exp(x)/sum(np.exp(x))\n",
    "print(\"下溢：\", y)\n",
    "x = x - np.max(x)\n",
    "print(x)\n",
    "y = np.exp(x)/sum(np.exp(x))\n",
    "print(\"下溢处理：\", y)\n",
    "print(\"log softmax(x):\", np.log(y))\n",
    "# 对 log softmax 下溢的处理：\n",
    "def logsoftmax(x):\n",
    "    print('x:', x)\n",
    "    print('sum:', sum(np.exp(x)))\n",
    "    y = x - np.log(sum(np.exp(x)))\n",
    "    return y\n",
    "print(\"logsoftmax(x):\", logsoftmax(x))"
   ]
  },
  {
   "cell_type": "code",
   "execution_count": null,
   "id": "recreational-demonstration",
   "metadata": {},
   "outputs": [],
   "source": []
  }
 ],
 "metadata": {
  "kernelspec": {
   "display_name": "Python 3",
   "language": "python",
   "name": "python3"
  },
  "language_info": {
   "codemirror_mode": {
    "name": "ipython",
    "version": 3
   },
   "file_extension": ".py",
   "mimetype": "text/x-python",
   "name": "python",
   "nbconvert_exporter": "python",
   "pygments_lexer": "ipython3",
   "version": "3.8.6"
  }
 },
 "nbformat": 4,
 "nbformat_minor": 5
}
