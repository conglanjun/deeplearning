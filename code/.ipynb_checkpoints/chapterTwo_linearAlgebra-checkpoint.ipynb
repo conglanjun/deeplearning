{
 "cells": [
  {
   "cell_type": "code",
   "execution_count": 1,
   "metadata": {},
   "outputs": [
    {
     "name": "stdout",
     "output_type": "stream",
     "text": [
      "标量：3\n",
      "向量：[1 2]\n",
      "矩阵：[[1 2]\n",
      " [3 4]]\n",
      "张量：[[[ 1  2  3]\n",
      "  [ 4  5  6]\n",
      "  [ 7  8  9]]\n",
      "\n",
      " [[11 12 13]\n",
      "  [14 15 16]\n",
      "  [17 18 19]]\n",
      "\n",
      " [[21 22 23]\n",
      "  [24 25 26]\n",
      "  [27 28 29]]]\n"
     ]
    }
   ],
   "source": [
    "import numpy as np\n",
    "\n",
    "# 标量\n",
    "s = 3\n",
    "# 向量\n",
    "v = np.array([1,2])\n",
    "# 矩阵\n",
    "m = np.array([[1,2],[3,4]])\n",
    "# 张量\n",
    "t = np.array([\n",
    "    [[1,2,3],[4,5,6],[7,8,9]],\n",
    "    [[11,12,13],[14,15,16],[17,18,19]],\n",
    "    [[21,22,23],[24,25,26],[27,28,29]]\n",
    "])\n",
    "print(\"标量：\" + str(s))\n",
    "print(\"向量：\" + str(v))\n",
    "print(\"矩阵：\" + str(m))\n",
    "print(\"张量：\" + str(t))"
   ]
  },
  {
   "cell_type": "code",
   "execution_count": 4,
   "metadata": {},
   "outputs": [
    {
     "name": "stdout",
     "output_type": "stream",
     "text": [
      "矩阵相加： [[ 7.  9.]\n",
      " [11. 13.]]\n",
      "广播： [[5. 6.]\n",
      " [8. 9.]]\n"
     ]
    }
   ],
   "source": [
    "# 矩阵相加\n",
    "a = np.array([[1.0,2.0],[3.0,4.0]])\n",
    "b = np.array([[6.0,7.0],[8.0,9.0]])\n",
    "print('矩阵相加：', a + b)\n",
    "\n",
    "# 矩阵与向量相加，广播\n",
    "c = np.array([[4.0],[5.0]])\n",
    "print('广播：', a + c)"
   ]
  },
  {
   "cell_type": "code",
   "execution_count": 8,
   "metadata": {},
   "outputs": [
    {
     "name": "stdout",
     "output_type": "stream",
     "text": [
      "矩阵乘法： [[16.  2.]\n",
      " [ 1.  2.]]\n",
      "逐元素相乘： [[1. 6.]\n",
      " [5. 0.]]\n",
      "逐元素相乘： [[1. 6.]\n",
      " [5. 0.]]\n",
      "向量内积： 14.0\n"
     ]
    }
   ],
   "source": [
    "# 矩阵乘法\n",
    "m1 = np.array([[1.0,3.0],[1.0,0.0]])\n",
    "m2 = np.array([[1.0,2.0],[5.0,0.0]])\n",
    "print('矩阵乘法：', np.dot(m1,m2))\n",
    "print('逐元素相乘：', np.multiply(m1, m2))\n",
    "print('逐元素相乘：', m1*m2)\n",
    "\n",
    "v1 = np.array([1.0,2.0])\n",
    "v2 = np.array([4.0,5.0])\n",
    "print('向量内积：', np.dot(v1,v2))"
   ]
  },
  {
   "cell_type": "code",
   "execution_count": 9,
   "metadata": {},
   "outputs": [
    {
     "data": {
      "text/plain": [
       "array([[1., 0., 0.],\n",
       "       [0., 1., 0.],\n",
       "       [0., 0., 1.]])"
      ]
     },
     "execution_count": 9,
     "metadata": {},
     "output_type": "execute_result"
    }
   ],
   "source": [
    "# 单位矩阵\n",
    "np.identity(3)"
   ]
  },
  {
   "cell_type": "code",
   "execution_count": 10,
   "metadata": {},
   "outputs": [
    {
     "data": {
      "text/plain": [
       "array([[1., 0., 0.],\n",
       "       [0., 1., 0.],\n",
       "       [0., 0., 1.]])"
      ]
     },
     "execution_count": 10,
     "metadata": {},
     "output_type": "execute_result"
    }
   ],
   "source": [
    "np.eye(3)"
   ]
  },
  {
   "cell_type": "code",
   "execution_count": null,
   "metadata": {},
   "outputs": [],
   "source": [
    "# 矩阵的逆\n",
    "A = [[1.0,2.0],[3.0,4.0]]\n",
    "A_inv = np.linalg.inv(A)\n",
    "print('矩阵A的逆：', A_inv)"
   ]
  }
 ],
 "metadata": {
  "kernelspec": {
   "display_name": "Python 3",
   "language": "python",
   "name": "python3"
  },
  "language_info": {
   "codemirror_mode": {
    "name": "ipython",
    "version": 3
   },
   "file_extension": ".py",
   "mimetype": "text/x-python",
   "name": "python",
   "nbconvert_exporter": "python",
   "pygments_lexer": "ipython3",
   "version": "3.8.5"
  }
 },
 "nbformat": 4,
 "nbformat_minor": 4
}
